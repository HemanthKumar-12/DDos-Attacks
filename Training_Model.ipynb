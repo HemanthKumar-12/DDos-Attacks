{
 "cells": [
  {
   "cell_type": "code",
   "execution_count": 1,
   "metadata": {
    "id": "Bgj8FYnjm5D-"
   },
   "outputs": [],
   "source": [
    "import pandas as pd\n",
    "import numpy as np\n",
    "import matplotlib.pyplot as plt\n",
    "import seaborn as sns\n",
    "import pickle\n",
    "import warnings\n",
    "warnings.filterwarnings('ignore')"
   ]
  },
  {
   "cell_type": "code",
   "execution_count": 2,
   "metadata": {
    "colab": {
     "base_uri": "https://localhost:8080/"
    },
    "id": "d4J-5lBHpLna",
    "outputId": "b54daaef-9fc5-4152-e98d-527032e852d6"
   },
   "outputs": [
    {
     "name": "stdout",
     "output_type": "stream",
     "text": [
      "Collecting catboost\n",
      "  Downloading catboost-1.2.5-cp310-cp310-manylinux2014_x86_64.whl.metadata (1.2 kB)\n",
      "Requirement already satisfied: graphviz in /usr/local/lib/python3.10/dist-packages (from catboost) (0.20.3)\n",
      "Requirement already satisfied: matplotlib in /usr/local/lib/python3.10/dist-packages (from catboost) (3.7.1)\n",
      "Requirement already satisfied: numpy>=1.16.0 in /usr/local/lib/python3.10/dist-packages (from catboost) (1.26.4)\n",
      "Requirement already satisfied: pandas>=0.24 in /usr/local/lib/python3.10/dist-packages (from catboost) (2.1.4)\n",
      "Requirement already satisfied: scipy in /usr/local/lib/python3.10/dist-packages (from catboost) (1.13.1)\n",
      "Requirement already satisfied: plotly in /usr/local/lib/python3.10/dist-packages (from catboost) (5.15.0)\n",
      "Requirement already satisfied: six in /usr/local/lib/python3.10/dist-packages (from catboost) (1.16.0)\n",
      "Requirement already satisfied: python-dateutil>=2.8.2 in /usr/local/lib/python3.10/dist-packages (from pandas>=0.24->catboost) (2.8.2)\n",
      "Requirement already satisfied: pytz>=2020.1 in /usr/local/lib/python3.10/dist-packages (from pandas>=0.24->catboost) (2024.1)\n",
      "Requirement already satisfied: tzdata>=2022.1 in /usr/local/lib/python3.10/dist-packages (from pandas>=0.24->catboost) (2024.1)\n",
      "Requirement already satisfied: contourpy>=1.0.1 in /usr/local/lib/python3.10/dist-packages (from matplotlib->catboost) (1.2.1)\n",
      "Requirement already satisfied: cycler>=0.10 in /usr/local/lib/python3.10/dist-packages (from matplotlib->catboost) (0.12.1)\n",
      "Requirement already satisfied: fonttools>=4.22.0 in /usr/local/lib/python3.10/dist-packages (from matplotlib->catboost) (4.53.1)\n",
      "Requirement already satisfied: kiwisolver>=1.0.1 in /usr/local/lib/python3.10/dist-packages (from matplotlib->catboost) (1.4.5)\n",
      "Requirement already satisfied: packaging>=20.0 in /usr/local/lib/python3.10/dist-packages (from matplotlib->catboost) (24.1)\n",
      "Requirement already satisfied: pillow>=6.2.0 in /usr/local/lib/python3.10/dist-packages (from matplotlib->catboost) (9.4.0)\n",
      "Requirement already satisfied: pyparsing>=2.3.1 in /usr/local/lib/python3.10/dist-packages (from matplotlib->catboost) (3.1.2)\n",
      "Requirement already satisfied: tenacity>=6.2.0 in /usr/local/lib/python3.10/dist-packages (from plotly->catboost) (9.0.0)\n",
      "Downloading catboost-1.2.5-cp310-cp310-manylinux2014_x86_64.whl (98.2 MB)\n",
      "\u001b[2K   \u001b[90m━━━━━━━━━━━━━━━━━━━━━━━━━━━━━━━━━━━━━━━━\u001b[0m \u001b[32m98.2/98.2 MB\u001b[0m \u001b[31m8.6 MB/s\u001b[0m eta \u001b[36m0:00:00\u001b[0m\n",
      "\u001b[?25hInstalling collected packages: catboost\n",
      "Successfully installed catboost-1.2.5\n",
      "Requirement already satisfied: lightgbm in /usr/local/lib/python3.10/dist-packages (4.4.0)\n",
      "Requirement already satisfied: numpy>=1.17.0 in /usr/local/lib/python3.10/dist-packages (from lightgbm) (1.26.4)\n",
      "Requirement already satisfied: scipy in /usr/local/lib/python3.10/dist-packages (from lightgbm) (1.13.1)\n"
     ]
    }
   ],
   "source": [
    "!pip install catboost\n",
    "!pip install lightgbm"
   ]
  },
  {
   "cell_type": "code",
   "execution_count": 3,
   "metadata": {
    "id": "-oS5g9ubpcxz"
   },
   "outputs": [],
   "source": [
    "from sklearn.metrics import accuracy_score, confusion_matrix, classification_report\n",
    "import xgboost as xgb\n",
    "from catboost import CatBoostClassifier\n",
    "from sklearn.ensemble import RandomForestClassifier\n",
    "from sklearn.tree import DecisionTreeClassifier\n",
    "import lightgbm as lgb"
   ]
  },
  {
   "cell_type": "code",
   "execution_count": 4,
   "metadata": {
    "id": "CPsNM83wmCBj"
   },
   "outputs": [],
   "source": [
    "# Load training data\n",
    "X_train = pd.read_csv('/content/drive/MyDrive/DDOS/M2/Train_Test_Data/X_train.csv').to_numpy()\n",
    "Y_train = pd.read_csv('/content/drive/MyDrive/DDOS/M2/Train_Test_Data/y_train.csv').to_numpy()\n",
    "\n",
    "# Load testing data\n",
    "X_test = pd.read_csv('/content/drive/MyDrive/DDOS/M2/Train_Test_Data/X_test.csv').to_numpy()\n",
    "Y_test = pd.read_csv('/content/drive/MyDrive/DDOS/M2/Train_Test_Data/y_test.csv').to_numpy()\n"
   ]
  },
  {
   "cell_type": "code",
   "execution_count": 6,
   "metadata": {
    "id": "ofYVwdNinIn5"
   },
   "outputs": [],
   "source": [
    "Models = ['XGboost', 'CatBoost', 'Random Forest', 'Decision Tree', 'LGBM']\n",
    "accuracy_scores = []"
   ]
  },
  {
   "cell_type": "code",
   "execution_count": null,
   "metadata": {
    "colab": {
     "base_uri": "https://localhost:8080/"
    },
    "id": "s78DlOF9ouWB",
    "outputId": "24e8687f-e03d-43f7-8125-65ba97c63bdd"
   },
   "outputs": [
    {
     "name": "stdout",
     "output_type": "stream",
     "text": [
      "Accuracy: 99.75%\n"
     ]
    }
   ],
   "source": [
    "# xg boost\n",
    "\n",
    "# Create DMatrix for XGBoost\n",
    "dtrain = xgb.DMatrix(X_train, label=Y_train)\n",
    "dtest = xgb.DMatrix(X_test, label=Y_test)\n",
    "\n",
    "# Set parameters for XGBoost\n",
    "param = {\n",
    "    'max_depth': 2,  # Maximum depth of a tree\n",
    "    'eta': 0.3,  # Learning rate\n",
    "    'objective': 'multi:softmax',  # Multiclass classification\n",
    "    'num_class': 7  # Number of classes\n",
    "}\n",
    "num_round = 100  # Number of boosting rounds\n",
    "\n",
    "# Train the XGBoost model\n",
    "bst = xgb.train(param, dtrain, num_round)\n",
    "\n",
    "# Make predictions\n",
    "y_pred = bst.predict(dtest)\n",
    "\n",
    "# Calculate accuracy\n",
    "accuracy_xg = accuracy_score(Y_test, y_pred)\n",
    "accuracy_scores.append(accuracy_xg)\n",
    "print(\"Accuracy: %.2f%%\" % (accuracy_xg * 100.0))"
   ]
  },
  {
   "cell_type": "code",
   "execution_count": null,
   "metadata": {
    "colab": {
     "base_uri": "https://localhost:8080/"
    },
    "id": "RF4RVLR8oQHS",
    "outputId": "4f25da5c-9afd-4e90-def1-c54c6cda5a41"
   },
   "outputs": [
    {
     "name": "stdout",
     "output_type": "stream",
     "text": [
      "0:\tlearn: 0.9446601\ttotal: 217ms\tremaining: 21.5s\n",
      "1:\tlearn: 0.5951752\ttotal: 363ms\tremaining: 17.8s\n",
      "2:\tlearn: 0.4961306\ttotal: 561ms\tremaining: 18.1s\n",
      "3:\tlearn: 0.3516943\ttotal: 749ms\tremaining: 18s\n",
      "4:\tlearn: 0.2956608\ttotal: 855ms\tremaining: 16.2s\n",
      "5:\tlearn: 0.2468417\ttotal: 947ms\tremaining: 14.8s\n",
      "6:\tlearn: 0.2233480\ttotal: 1.01s\tremaining: 13.5s\n",
      "7:\tlearn: 0.2011744\ttotal: 1.08s\tremaining: 12.4s\n",
      "8:\tlearn: 0.1648971\ttotal: 1.18s\tremaining: 11.9s\n",
      "9:\tlearn: 0.1480065\ttotal: 1.25s\tremaining: 11.3s\n",
      "10:\tlearn: 0.1323075\ttotal: 1.33s\tremaining: 10.7s\n",
      "11:\tlearn: 0.1204843\ttotal: 1.4s\tremaining: 10.3s\n",
      "12:\tlearn: 0.1114277\ttotal: 1.47s\tremaining: 9.83s\n",
      "13:\tlearn: 0.1048465\ttotal: 1.56s\tremaining: 9.56s\n",
      "14:\tlearn: 0.0975262\ttotal: 1.63s\tremaining: 9.26s\n",
      "15:\tlearn: 0.0925063\ttotal: 1.7s\tremaining: 8.92s\n",
      "16:\tlearn: 0.0862326\ttotal: 1.77s\tremaining: 8.62s\n",
      "17:\tlearn: 0.0802257\ttotal: 1.84s\tremaining: 8.4s\n",
      "18:\tlearn: 0.0778509\ttotal: 1.91s\tremaining: 8.14s\n",
      "19:\tlearn: 0.0739936\ttotal: 1.99s\tremaining: 7.98s\n",
      "20:\tlearn: 0.0699986\ttotal: 2.07s\tremaining: 7.78s\n",
      "21:\tlearn: 0.0636643\ttotal: 2.16s\tremaining: 7.66s\n",
      "22:\tlearn: 0.0598581\ttotal: 2.23s\tremaining: 7.48s\n",
      "23:\tlearn: 0.0588651\ttotal: 2.29s\tremaining: 7.26s\n",
      "24:\tlearn: 0.0574203\ttotal: 2.36s\tremaining: 7.08s\n",
      "25:\tlearn: 0.0550540\ttotal: 2.44s\tremaining: 6.94s\n",
      "26:\tlearn: 0.0526393\ttotal: 2.51s\tremaining: 6.78s\n",
      "27:\tlearn: 0.0508650\ttotal: 2.57s\tremaining: 6.61s\n",
      "28:\tlearn: 0.0487986\ttotal: 2.63s\tremaining: 6.45s\n",
      "29:\tlearn: 0.0468825\ttotal: 2.71s\tremaining: 6.33s\n",
      "30:\tlearn: 0.0448522\ttotal: 2.78s\tremaining: 6.18s\n",
      "31:\tlearn: 0.0426549\ttotal: 2.84s\tremaining: 6.04s\n",
      "32:\tlearn: 0.0410073\ttotal: 2.92s\tremaining: 5.93s\n",
      "33:\tlearn: 0.0399719\ttotal: 2.99s\tremaining: 5.8s\n",
      "34:\tlearn: 0.0387874\ttotal: 3.07s\tremaining: 5.7s\n",
      "35:\tlearn: 0.0381946\ttotal: 3.15s\tremaining: 5.59s\n",
      "36:\tlearn: 0.0376092\ttotal: 3.21s\tremaining: 5.46s\n",
      "37:\tlearn: 0.0361150\ttotal: 3.28s\tremaining: 5.35s\n",
      "38:\tlearn: 0.0353259\ttotal: 3.36s\tremaining: 5.26s\n",
      "39:\tlearn: 0.0328172\ttotal: 3.46s\tremaining: 5.2s\n",
      "40:\tlearn: 0.0316639\ttotal: 3.54s\tremaining: 5.1s\n",
      "41:\tlearn: 0.0309714\ttotal: 3.61s\tremaining: 4.99s\n",
      "42:\tlearn: 0.0300234\ttotal: 3.69s\tremaining: 4.89s\n",
      "43:\tlearn: 0.0296260\ttotal: 3.77s\tremaining: 4.79s\n",
      "44:\tlearn: 0.0287542\ttotal: 3.88s\tremaining: 4.74s\n",
      "45:\tlearn: 0.0278178\ttotal: 3.95s\tremaining: 4.64s\n",
      "46:\tlearn: 0.0269805\ttotal: 4.03s\tremaining: 4.54s\n",
      "47:\tlearn: 0.0263771\ttotal: 4.09s\tremaining: 4.43s\n",
      "48:\tlearn: 0.0260830\ttotal: 4.17s\tremaining: 4.34s\n",
      "49:\tlearn: 0.0255448\ttotal: 4.24s\tremaining: 4.24s\n",
      "50:\tlearn: 0.0242588\ttotal: 4.33s\tremaining: 4.16s\n",
      "51:\tlearn: 0.0237935\ttotal: 4.4s\tremaining: 4.06s\n",
      "52:\tlearn: 0.0235550\ttotal: 4.47s\tremaining: 3.96s\n",
      "53:\tlearn: 0.0231540\ttotal: 4.55s\tremaining: 3.87s\n",
      "54:\tlearn: 0.0231402\ttotal: 4.61s\tremaining: 3.77s\n",
      "55:\tlearn: 0.0226451\ttotal: 4.67s\tremaining: 3.67s\n",
      "56:\tlearn: 0.0223310\ttotal: 4.74s\tremaining: 3.57s\n",
      "57:\tlearn: 0.0218880\ttotal: 4.81s\tremaining: 3.48s\n",
      "58:\tlearn: 0.0216205\ttotal: 4.87s\tremaining: 3.39s\n",
      "59:\tlearn: 0.0215131\ttotal: 4.95s\tremaining: 3.3s\n",
      "60:\tlearn: 0.0213066\ttotal: 5.04s\tremaining: 3.22s\n",
      "61:\tlearn: 0.0209345\ttotal: 5.12s\tremaining: 3.14s\n",
      "62:\tlearn: 0.0207863\ttotal: 5.19s\tremaining: 3.05s\n",
      "63:\tlearn: 0.0203751\ttotal: 5.27s\tremaining: 2.96s\n",
      "64:\tlearn: 0.0199767\ttotal: 5.34s\tremaining: 2.87s\n",
      "65:\tlearn: 0.0199631\ttotal: 5.4s\tremaining: 2.78s\n",
      "66:\tlearn: 0.0198668\ttotal: 5.49s\tremaining: 2.71s\n",
      "67:\tlearn: 0.0196303\ttotal: 5.55s\tremaining: 2.61s\n",
      "68:\tlearn: 0.0194390\ttotal: 5.61s\tremaining: 2.52s\n",
      "69:\tlearn: 0.0192798\ttotal: 5.68s\tremaining: 2.43s\n",
      "70:\tlearn: 0.0190183\ttotal: 5.75s\tremaining: 2.35s\n",
      "71:\tlearn: 0.0188097\ttotal: 5.81s\tremaining: 2.26s\n",
      "72:\tlearn: 0.0186507\ttotal: 5.87s\tremaining: 2.17s\n",
      "73:\tlearn: 0.0185628\ttotal: 5.93s\tremaining: 2.08s\n",
      "74:\tlearn: 0.0182529\ttotal: 5.99s\tremaining: 2s\n",
      "75:\tlearn: 0.0182076\ttotal: 6.05s\tremaining: 1.91s\n",
      "76:\tlearn: 0.0177871\ttotal: 6.12s\tremaining: 1.83s\n",
      "77:\tlearn: 0.0176399\ttotal: 6.18s\tremaining: 1.74s\n",
      "78:\tlearn: 0.0175849\ttotal: 6.24s\tremaining: 1.66s\n",
      "79:\tlearn: 0.0173725\ttotal: 6.31s\tremaining: 1.58s\n",
      "80:\tlearn: 0.0170270\ttotal: 6.38s\tremaining: 1.5s\n",
      "81:\tlearn: 0.0168012\ttotal: 6.44s\tremaining: 1.41s\n",
      "82:\tlearn: 0.0166071\ttotal: 6.51s\tremaining: 1.33s\n",
      "83:\tlearn: 0.0164889\ttotal: 6.57s\tremaining: 1.25s\n",
      "84:\tlearn: 0.0163936\ttotal: 6.63s\tremaining: 1.17s\n",
      "85:\tlearn: 0.0163251\ttotal: 6.69s\tremaining: 1.09s\n",
      "86:\tlearn: 0.0160321\ttotal: 6.78s\tremaining: 1.01s\n",
      "87:\tlearn: 0.0159733\ttotal: 6.83s\tremaining: 932ms\n",
      "88:\tlearn: 0.0156562\ttotal: 6.9s\tremaining: 853ms\n",
      "89:\tlearn: 0.0156210\ttotal: 6.96s\tremaining: 774ms\n",
      "90:\tlearn: 0.0153396\ttotal: 7.05s\tremaining: 697ms\n",
      "91:\tlearn: 0.0152333\ttotal: 7.11s\tremaining: 619ms\n",
      "92:\tlearn: 0.0150274\ttotal: 7.17s\tremaining: 540ms\n",
      "93:\tlearn: 0.0149811\ttotal: 7.23s\tremaining: 462ms\n",
      "94:\tlearn: 0.0147889\ttotal: 7.3s\tremaining: 384ms\n",
      "95:\tlearn: 0.0145938\ttotal: 7.36s\tremaining: 307ms\n",
      "96:\tlearn: 0.0144378\ttotal: 7.42s\tremaining: 229ms\n",
      "97:\tlearn: 0.0143004\ttotal: 7.5s\tremaining: 153ms\n",
      "98:\tlearn: 0.0142775\ttotal: 7.56s\tremaining: 76.4ms\n",
      "99:\tlearn: 0.0141824\ttotal: 7.62s\tremaining: 0us\n",
      "Accuracy: 99.63%\n"
     ]
    }
   ],
   "source": [
    "# catboost\n",
    "\n",
    "# Initialize CatBoostClassifier\n",
    "model = CatBoostClassifier(iterations=100,\n",
    "                           learning_rate=0.5,\n",
    "                           depth=3,\n",
    "                           loss_function='MultiClass')\n",
    "\n",
    "# Fit model\n",
    "model.fit(X_train, Y_train)\n",
    "\n",
    "# Get predictions\n",
    "preds_class = model.predict(X_test)\n",
    "\n",
    "# Calculate accuracy\n",
    "accuracy_cb = accuracy_score(Y_test, preds_class)\n",
    "accuracy_scores.append(accuracy_cb)\n",
    "print(\"Accuracy: %.2f%%\" % (accuracy_cb * 100.0))\n"
   ]
  },
  {
   "cell_type": "code",
   "execution_count": null,
   "metadata": {
    "colab": {
     "base_uri": "https://localhost:8080/"
    },
    "id": "zqwh4TeyoT7K",
    "outputId": "c2bc0d55-b2b9-4c6e-ecf3-9b4f1d965691"
   },
   "outputs": [
    {
     "name": "stdout",
     "output_type": "stream",
     "text": [
      "Random Forest Accuracy: 99.19%\n"
     ]
    }
   ],
   "source": [
    "# randomforeest\n",
    "\n",
    "# Initialize Random Forest Classifier\n",
    "rf_model = RandomForestClassifier(n_estimators=10, random_state=42,max_depth=10)\n",
    "\n",
    "# Fit the model\n",
    "rf_model.fit(X_train, Y_train)\n",
    "\n",
    "# Make predictions\n",
    "y_pred_rf = rf_model.predict(X_test)\n",
    "\n",
    "# Calculate accuracy\n",
    "accuracy_rf = accuracy_score(Y_test, y_pred_rf)\n",
    "accuracy_scores.append(accuracy_rf)\n",
    "print(\"Random Forest Accuracy: %.2f%%\" % (accuracy_rf * 100.0))"
   ]
  },
  {
   "cell_type": "code",
   "execution_count": null,
   "metadata": {
    "colab": {
     "base_uri": "https://localhost:8080/"
    },
    "id": "u6xfbKnpqoRz",
    "outputId": "92a70b6a-eb4e-49c6-e4d6-c9042d970a31"
   },
   "outputs": [
    {
     "name": "stdout",
     "output_type": "stream",
     "text": [
      "Decision Tree Accuracy: 99.34%\n"
     ]
    }
   ],
   "source": [
    "# decision tree\n",
    "\n",
    "# Initialize Decision Tree Classifier\n",
    "dt_model = DecisionTreeClassifier(max_depth=11,min_samples_split=2)\n",
    "\n",
    "# Fit the model\n",
    "dt_model.fit(X_train, Y_train)\n",
    "\n",
    "# Make predictions\n",
    "y_pred_dt = dt_model.predict(X_test)\n",
    "\n",
    "# Calculate accuracy\n",
    "accuracy_dt = accuracy_score(Y_test, y_pred_dt)\n",
    "accuracy_scores.append(accuracy_dt)\n",
    "print(\"Decision Tree Accuracy: %.2f%%\" % (accuracy_dt * 100.0))\n"
   ]
  },
  {
   "cell_type": "code",
   "execution_count": 7,
   "metadata": {
    "colab": {
     "base_uri": "https://localhost:8080/"
    },
    "id": "9Yk0UtTo9YL9",
    "outputId": "c693bbe6-1343-4e6d-987b-44c420be7d79"
   },
   "outputs": [
    {
     "name": "stdout",
     "output_type": "stream",
     "text": [
      "[LightGBM] [Info] Auto-choosing row-wise multi-threading, the overhead of testing was 0.016609 seconds.\n",
      "You can set `force_row_wise=true` to remove the overhead.\n",
      "And if memory is not enough, you can set `force_col_wise=true`.\n",
      "[LightGBM] [Info] Total Bins 16604\n",
      "[LightGBM] [Info] Number of data points in the train set: 67791, number of used features: 70\n",
      "[LightGBM] [Info] Start training from score -1.939675\n",
      "[LightGBM] [Info] Start training from score -1.940496\n",
      "[LightGBM] [Info] Start training from score -1.943067\n",
      "[LightGBM] [Info] Start training from score -1.951546\n",
      "[LightGBM] [Info] Start training from score -1.949575\n",
      "[LightGBM] [Info] Start training from score -1.950405\n",
      "[LightGBM] [Info] Start training from score -1.946678\n",
      "[LightGBM] [Warning] No further splits with positive gain, best gain: -inf\n",
      "Training until validation scores don't improve for 10 rounds\n",
      "Did not meet early stopping. Best iteration is:\n",
      "[100]\tvalid_0's multi_logloss: 0.00629551\n",
      "Accuracy: 99.83%\n"
     ]
    }
   ],
   "source": [
    "# Create LightGBM datasets\n",
    "train_data = lgb.Dataset(X_train, label=Y_train)\n",
    "test_data = lgb.Dataset(X_test, label=Y_test, reference=train_data)\n",
    "\n",
    "# Define parameters\n",
    "params = {\n",
    "    'objective': 'multiclass',            # Use 'multiclass' for multiple categories\n",
    "    'metric': 'multi_logloss',            # Metric to evaluate performance\n",
    "    'num_class': 7,                       # Number of classes\n",
    "    'boosting_type': 'gbdt',              # Gradient Boosting Decision Tree\n",
    "    'num_leaves': 50,                     # Number of leaves in one tree\n",
    "    'learning_rate': 0.05,                # Learning rate\n",
    "    'feature_fraction': 0.9               # Fraction of features to use\n",
    "}\n",
    "\n",
    "# Train the model\n",
    "bst = lgb.train(params,\n",
    "                train_data,\n",
    "                num_boost_round=100,\n",
    "                valid_sets=[test_data],\n",
    "                callbacks=[lgb.early_stopping(10)]) # Use a callback for early stopping\n",
    "# Predict on test data\n",
    "y_pred = bst.predict(X_test, num_iteration=bst.best_iteration)\n",
    "y_pred_class = y_pred.argmax(axis=1)  # Get the class with highest probability\n",
    "\n",
    "# Calculate accuracy\n",
    "accuracy_lgbm = accuracy_score(Y_test, y_pred_class)\n",
    "accuracy_scores.append(accuracy_lgbm)\n",
    "print(\"Accuracy: %.2f%%\" % (accuracy_lgbm * 100.0))"
   ]
  },
  {
   "cell_type": "code",
   "execution_count": null,
   "metadata": {
    "colab": {
     "base_uri": "https://localhost:8080/",
     "height": 472
    },
    "id": "yOKAW3sc3SFC",
    "outputId": "0852403c-b270-4978-fca2-67480126460b"
   },
   "outputs": [
    {
     "data": {
      "image/png": "[encoded data removed]",
      "text/plain": [
       "<Figure size 640x480 with 1 Axes>"
      ]
     },
     "metadata": {},
     "output_type": "display_data"
    }
   ],
   "source": [
    "plt.barh(Models, accuracy_scores,\n",
    "        height = 0.1, color = \"green\")\n",
    "plt.xlim(0.98, 1.0)\n",
    "plt.xlabel(\"Accuracy\")\n",
    "plt.ylabel(\"Models\")\n",
    "plt.title(\"checking accuracy on models\")\n",
    "plt.show()"
   ]
  },
  {
   "cell_type": "code",
   "execution_count": 8,
   "metadata": {
    "colab": {
     "base_uri": "https://localhost:8080/"
    },
    "id": "SySVn5A8H4oV",
    "outputId": "a2797c6c-f1f3-4d80-8b87-0fea655edeaa"
   },
   "outputs": [
    {
     "data": {
      "text/plain": [
       "array([[4090,    0,    0,    0,    0,    0,    0],\n",
       "       [   2, 4094,    0,    0,    2,    0,    0],\n",
       "       [   8,    0, 4109,    0,    6,    0,    0],\n",
       "       [   0,    0,    0, 4204,    1,    0,    0],\n",
       "       [  15,    0,    5,    1, 4164,    1,    0],\n",
       "       [   3,    0,    1,    0,    1, 4189,    0],\n",
       "       [   0,    0,    1,    0,    1,    0, 4156]])"
      ]
     },
     "execution_count": 8,
     "metadata": {},
     "output_type": "execute_result"
    }
   ],
   "source": [
    "# confusion matrix\n",
    "# Calculating the confusion matrix\n",
    "cm = confusion_matrix(Y_test, y_pred_class)\n",
    "\n",
    "cm\n"
   ]
  },
  {
   "cell_type": "code",
   "execution_count": 9,
   "metadata": {
    "colab": {
     "base_uri": "https://localhost:8080/",
     "height": 718
    },
    "id": "whyOVlCmJhzK",
    "outputId": "75b3a191-8def-4726-d324-fe3382c5220c"
   },
   "outputs": [
    {
     "data": {
      "image/png": "[encoded data removed]",
      "text/plain": [
       "<Figure size 1000x800 with 2 Axes>"
      ]
     },
     "metadata": {},
     "output_type": "display_data"
    }
   ],
   "source": [
    "#[ 0=='Botnet' 1=='Brute Force' 2=='DoS/DDoS' 3=='Infiltration' 4=='Normal'  5=='Port Scan'  6=='Web Attack' ]\n",
    "\n",
    "# Calculating the confusion matrix\n",
    "cm = confusion_matrix(Y_test, y_pred_class)\n",
    "\n",
    "# Ploting the confusion matrix\n",
    "plt.figure(figsize=(10, 8))\n",
    "sns.heatmap(cm, annot=True, fmt='g', cmap='Blues',\n",
    "            xticklabels=['Botnet', 'Brute Force', 'DoS/DDoS', 'Infiltration', 'Normal', 'Port Scan', 'Web Attack'],\n",
    "            yticklabels=['Botnet', 'Brute Force', 'DoS/DDoS', 'Infiltration', 'Normal', 'Port Scan', 'Web Attack'])\n",
    "plt.xlabel('Predicted Labels')\n",
    "plt.ylabel('True Labels')\n",
    "plt.title('Confusion Matrix')\n",
    "plt.show()\n"
   ]
  },
  {
   "cell_type": "code",
   "execution_count": 10,
   "metadata": {
    "colab": {
     "base_uri": "https://localhost:8080/"
    },
    "id": "5SiWAWzbH_CV",
    "outputId": "cab732db-6633-4662-f272-bdddaa88f138"
   },
   "outputs": [
    {
     "name": "stdout",
     "output_type": "stream",
     "text": [
      "              precision    recall  f1-score   support\n",
      "\n",
      "           0       0.99      1.00      1.00      4090\n",
      "           1       1.00      1.00      1.00      4098\n",
      "           2       1.00      1.00      1.00      4123\n",
      "           3       1.00      1.00      1.00      4205\n",
      "           4       1.00      0.99      1.00      4186\n",
      "           5       1.00      1.00      1.00      4194\n",
      "           6       1.00      1.00      1.00      4158\n",
      "\n",
      "    accuracy                           1.00     29054\n",
      "   macro avg       1.00      1.00      1.00     29054\n",
      "weighted avg       1.00      1.00      1.00     29054\n",
      "\n"
     ]
    }
   ],
   "source": [
    "# classsification report\n",
    "report = classification_report(Y_test, y_pred_class)\n",
    "\n",
    "print(report)\n"
   ]
  },
  {
   "cell_type": "code",
   "execution_count": null,
   "metadata": {
    "id": "dA6hOCEWHc_n"
   },
   "outputs": [],
   "source": [
    "# Save the trained model to a pickle file\n",
    "\n",
    "filename = 'lgbm_model.pkl'\n",
    "pickle.dump(bst, open(filename, 'wb'))\n"
   ]
  },
  {
   "cell_type": "code",
   "execution_count": null,
   "metadata": {
    "id": "P8rkBy-pIiiZ"
   },
   "outputs": [],
   "source": [
    "# model to drive\n",
    "\n",
    "!cp lgbm_model.pkl /content/drive/MyDrive/DDOS/M3\n"
   ]
  },
  {
   "cell_type": "code",
   "execution_count": 11,
   "metadata": {
    "id": "SxYqBek-Mwi5"
   },
   "outputs": [],
   "source": [
    "# Load the saved model\n",
    "loaded_model = pickle.load(open('/content/drive/MyDrive/DDOS/M3/lgbm_model.pkl', 'rb'))"
   ]
  },
  {
   "cell_type": "code",
   "execution_count": 15,
   "metadata": {
    "colab": {
     "base_uri": "https://localhost:8080/"
    },
    "collapsed": true,
    "id": "b9Ikwjj2K5BX",
    "outputId": "243fa480-0be3-44d8-b40f-58c4490e12d2"
   },
   "outputs": [
    {
     "data": {
      "text/plain": [
       "array([[1.23419075e-01, 8.30956243e-03, 1.24747387e-05, 1.37536447e-05,\n",
       "        0.00000000e+00, 3.82978723e-08, 0.00000000e+00, 0.00000000e+00,\n",
       "        0.00000000e+00, 0.00000000e+00, 5.15818432e-04, 4.10958904e-03,\n",
       "        1.55159038e-03, 0.00000000e+00, 8.71643559e-09, 1.99994514e-06,\n",
       "        1.73414157e-03, 3.32519731e-03, 4.15571302e-03, 4.29589916e-06,\n",
       "        8.30532044e-03, 4.22304429e-03, 1.48489790e-05, 4.15995759e-03,\n",
       "        4.21562324e-03, 8.30423957e-03, 4.22249470e-03, 1.69055210e-05,\n",
       "        4.19480677e-03, 4.21463342e-03, 0.00000000e+00, 0.00000000e+00,\n",
       "        0.00000000e+00, 0.00000000e+00, 9.98243952e-01, 9.50566001e-01,\n",
       "        9.97225284e-07, 1.50431151e-06, 0.00000000e+00, 2.56849315e-04,\n",
       "        9.48366702e-04, 6.81066363e-04, 4.63320464e-07, 0.00000000e+00,\n",
       "        0.00000000e+00, 0.00000000e+00, 1.00000000e+00, 0.00000000e+00,\n",
       "        0.00000000e+00, 0.00000000e+00, 0.00000000e+00, 1.42857143e-01,\n",
       "        1.05374078e-03, 0.00000000e+00, 1.55159038e-03, 9.98243952e-01,\n",
       "        0.00000000e+00, 0.00000000e+00, 0.00000000e+00, 0.00000000e+00,\n",
       "        0.00000000e+00, 0.00000000e+00, 1.24747387e-05, 0.00000000e+00,\n",
       "        1.37536447e-05, 3.82890909e-08, 1.25015259e-01, 1.52587891e-05,\n",
       "        0.00000000e+00, 9.99999762e-01, 0.00000000e+00, 0.00000000e+00,\n",
       "        0.00000000e+00, 0.00000000e+00, 0.00000000e+00, 0.00000000e+00,\n",
       "        0.00000000e+00, 0.00000000e+00]])"
      ]
     },
     "execution_count": 15,
     "metadata": {},
     "output_type": "execute_result"
    }
   ],
   "source": [
    "# checking for prediction\n",
    "X_record = X_test[699].reshape(1, -1)\n",
    "X_record"
   ]
  },
  {
   "cell_type": "code",
   "execution_count": 13,
   "metadata": {
    "colab": {
     "base_uri": "https://localhost:8080/"
    },
    "id": "LgkiuuNMMaoE",
    "outputId": "0b598b6c-90ea-45c1-99cb-36cf09e2dd6f"
   },
   "outputs": [
    {
     "data": {
      "text/plain": [
       "array([[0]])"
      ]
     },
     "execution_count": 13,
     "metadata": {},
     "output_type": "execute_result"
    }
   ],
   "source": [
    "Y_record = Y_test[699].reshape(1, -1)\n",
    "Y_record"
   ]
  },
  {
   "cell_type": "code",
   "execution_count": 16,
   "metadata": {
    "colab": {
     "base_uri": "https://localhost:8080/"
    },
    "id": "mO0fX2KKK8G4",
    "outputId": "6fe29b18-c0e4-49bc-cd62-dba59b97dd1d"
   },
   "outputs": [
    {
     "name": "stdout",
     "output_type": "stream",
     "text": [
      "[0]\n"
     ]
    }
   ],
   "source": [
    "# Checking predictions\n",
    "predictions = loaded_model.predict(X_record)\n",
    "predicted_class = np.argmax(predictions, axis=1)\n",
    "print(predicted_class)\n"
   ]
  }
 ],
 "metadata": {
  "accelerator": "GPU",
  "colab": {
   "gpuType": "T4",
   "provenance": []
  },
  "kernelspec": {
   "display_name": "Python 3 (ipykernel)",
   "language": "python",
   "name": "python3"
  },
  "language_info": {
   "codemirror_mode": {
    "name": "ipython",
    "version": 3
   },
   "file_extension": ".py",
   "mimetype": "text/x-python",
   "name": "python",
   "nbconvert_exporter": "python",
   "pygments_lexer": "ipython3",
   "version": "3.9.7"
  }
 },
 "nbformat": 4,
 "nbformat_minor": 1
}
